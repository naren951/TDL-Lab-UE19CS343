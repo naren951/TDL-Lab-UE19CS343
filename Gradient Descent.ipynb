{
 "cells": [
  {
   "cell_type": "code",
   "execution_count": 1,
   "source": [
    "import tensorflow as tf\n",
    "tf.compat.v1.enable_eager_execution()\n",
    "i = 3\n",
    "o = -i\n",
    "w = 0.5\n",
    "i,o,w = [tf.convert_to_tensor(float(x)) for x in [i,o,w]]\n",
    "\n",
    "for _ in range(40):\n",
    "    with tf.GradientTape() as tape:\n",
    "        tape.watch(w)\n",
    "        loss = (o-(i*w))**2\n",
    "        grad = tape.gradient(loss,w)\n",
    "        w+=grad* -0.01\n",
    "        print(\"Loss: \",loss.numpy(),\"Weight: \",w.numpy())"
   ],
   "outputs": [
    {
     "output_type": "stream",
     "name": "stdout",
     "text": [
      "Metal device set to: Apple M1\n",
      "\n",
      "systemMemory: 8.00 GB\n",
      "maxCacheSize: 2.67 GB\n",
      "\n",
      "Loss:  20.25 Weight:  0.23000002\n",
      "Loss:  13.616098 Weight:  0.008600026\n",
      "Loss:  9.155464 Weight:  -0.17294796\n",
      "Loss:  6.1561346 Weight:  -0.3218173\n",
      "Loss:  4.139386 Weight:  -0.44389018\n",
      "Loss:  2.7833228 Weight:  -0.54398996\n",
      "Loss:  1.8715059 Weight:  -0.62607175\n",
      "Loss:  1.2584007 Weight:  -0.6933788\n",
      "Loss:  0.8461492 Weight:  -0.7485706\n",
      "Loss:  0.56895065 Weight:  -0.7938279\n",
      "Loss:  0.3825626 Weight:  -0.8309389\n",
      "Loss:  0.2572349 Weight:  -0.86136985\n",
      "Loss:  0.17296486 Weight:  -0.8863233\n",
      "Loss:  0.11630154 Weight:  -0.9067851\n",
      "Loss:  0.07820116 Weight:  -0.9235638\n",
      "Loss:  0.05258243 Weight:  -0.9373223\n",
      "Loss:  0.035356447 Weight:  -0.9486043\n",
      "Loss:  0.023773689 Weight:  -0.9578555\n",
      "Loss:  0.015985401 Weight:  -0.9654415\n",
      "Loss:  0.010748583 Weight:  -0.97166204\n",
      "Loss:  0.007227359 Weight:  -0.9767629\n",
      "Loss:  0.0048596533 Weight:  -0.9809456\n",
      "Loss:  0.003267636 Weight:  -0.98437536\n",
      "Loss:  0.0021971765 Weight:  -0.9871878\n",
      "Loss:  0.001477376 Weight:  -0.989494\n",
      "Loss:  0.0009933832 Weight:  -0.9913851\n",
      "Loss:  0.0006679422 Weight:  -0.9929358\n",
      "Loss:  0.0004491242 Weight:  -0.9942073\n",
      "Loss:  0.00030199817 Weight:  -0.99525\n",
      "Loss:  0.00020306362 Weight:  -0.996105\n",
      "Loss:  0.00013653676 Weight:  -0.9968061\n",
      "Loss:  9.181099e-05 Weight:  -0.997381\n",
      "Loss:  6.173381e-05 Weight:  -0.9978524\n",
      "Loss:  4.150949e-05 Weight:  -0.998239\n",
      "Loss:  2.791134e-05 Weight:  -0.99855596\n",
      "Loss:  1.8766796e-05 Weight:  -0.9988159\n",
      "Loss:  1.26198065e-05 Weight:  -0.99902904\n",
      "Loss:  8.485566e-06 Weight:  -0.9992038\n",
      "Loss:  5.7048246e-06 Weight:  -0.9993471\n",
      "Loss:  3.837084e-06 Weight:  -0.99946463\n"
     ]
    },
    {
     "output_type": "stream",
     "name": "stderr",
     "text": [
      "2022-02-02 15:16:26.059286: I tensorflow/core/common_runtime/pluggable_device/pluggable_device_factory.cc:305] Could not identify NUMA node of platform GPU ID 0, defaulting to 0. Your kernel may not have been built with NUMA support.\n",
      "2022-02-02 15:16:26.059754: I tensorflow/core/common_runtime/pluggable_device/pluggable_device_factory.cc:271] Created TensorFlow device (/job:localhost/replica:0/task:0/device:GPU:0 with 0 MB memory) -> physical PluggableDevice (device: 0, name: METAL, pci bus id: <undefined>)\n"
     ]
    }
   ],
   "metadata": {}
  },
  {
   "cell_type": "code",
   "execution_count": null,
   "source": [],
   "outputs": [],
   "metadata": {}
  }
 ],
 "metadata": {
  "orig_nbformat": 4,
  "language_info": {
   "name": "python",
   "version": "3.9.10",
   "mimetype": "text/x-python",
   "codemirror_mode": {
    "name": "ipython",
    "version": 3
   },
   "pygments_lexer": "ipython3",
   "nbconvert_exporter": "python",
   "file_extension": ".py"
  },
  "kernelspec": {
   "name": "python3",
   "display_name": "Python 3.9.10 64-bit ('base': conda)"
  },
  "interpreter": {
   "hash": "c60e96cf53dd04ddda32dc32e2dcc3f8fac084489a33586ebacbc35a2dc5ca8c"
  }
 },
 "nbformat": 4,
 "nbformat_minor": 2
}