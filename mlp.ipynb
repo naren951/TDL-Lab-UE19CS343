{
 "cells": [
  {
   "cell_type": "code",
   "execution_count": 31,
   "source": [
    "import numpy as np"
   ],
   "outputs": [],
   "metadata": {}
  },
  {
   "cell_type": "code",
   "execution_count": 32,
   "source": [
    "class MLP:\n",
    "    \n",
    "    def __init__(self, X, y, lr=0.1, no_of_epochs=100, input_layer=2, hidden_layer=2, output_layer = 1):\n",
    "        self.X = X\n",
    "        self.y = y\n",
    "        self.lr = lr\n",
    "        self.no_of_epochs = no_of_epochs \n",
    "\n",
    "        self.weight_I_H = np.random.uniform(size = (input_layer,hidden_layer))\n",
    "        self.weight_H_O = np.random.uniform(size = (hidden_layer,output_layer))\n",
    "\n",
    "        self.bias_I_H = np.random.uniform(size=(1,hidden_layer))\n",
    "        self.bias_H_O = np.random.uniform(size=(1,output_layer))\n",
    "\n",
    "        self.loss = []\n",
    "\n",
    "    def forward_prop(self,batch):\n",
    "\n",
    "        self.hidden_output = self.sigmoid(np.dot(batch , self.weight_I_H)+self.bias_I_H)\n",
    "        self.output = self.sigmoid(np.dot(self.hidden_output , self.weight_H_O) + self.bias_H_O)\n",
    "        return self.output\n",
    "    def back_prop(self):\n",
    "        error = self.y-self.output\n",
    "        loss = (error**2)/2\n",
    "        self.loss.append(np.sum(loss))\n",
    "        grad1 = self.X.T @ (((error * self.sigmoid_derivative(self.output)) * self.weight_H_O.T) * self.sigmoid_derivative(self.hidden_output))\n",
    "        self.weight_I_H += self.lr * grad1\n",
    "\n",
    "        grad2 = self.hidden_output.T @ (error * self.sigmoid_derivative(self.output))\n",
    "        self.weight_H_O += self.lr * grad2\n",
    "\n",
    "        self.bias_I_H += np.sum(self.lr * ((error * self.sigmoid_derivative(self.output)) * self.weight_H_O.T) * self.sigmoid_derivative(self.hidden_output), axis=0)\n",
    "        self.bias_H_O += np.sum(self.lr * error * self.sigmoid_derivative(self.output), axis=0)\n",
    "\n",
    "\n",
    "    def sigmoid(self, x):\n",
    "        return 1 / (1 + np.exp(-x))\n",
    "\n",
    "    def sigmoid_derivative(self, x):\n",
    "        # return self.sigmoid(x) * self.sigmoid(1 - x)\n",
    "        return x*(1-x)\n",
    "\n",
    "    def predict(self, X):\n",
    "        pred = self.forward_prop(X)\n",
    "        return np.array([1 if i >= 0.5 else 0 for i in pred])\n",
    "\n",
    "    def train(self):\n",
    "        for epoch in range(self.no_of_epochs):\n",
    "            self.forward_prop(self.X)\n",
    "            self.back_prop()\n",
    "            if epoch % 500 == 0:\n",
    "                print(\"[Epoch]:\",epoch,\"Loss: \", self.loss[epoch])"
   ],
   "outputs": [],
   "metadata": {}
  },
  {
   "cell_type": "code",
   "execution_count": 33,
   "source": [
    "X = np.array(\n",
    "    [[0,0],\n",
    "     [0,1],\n",
    "     [1,0],\n",
    "     [1,1]]\n",
    ")\n",
    "\n",
    "y = np.array(\n",
    "    [[0],\n",
    "     [1],\n",
    "     [1],\n",
    "     [0]]\n",
    ")"
   ],
   "outputs": [],
   "metadata": {}
  },
  {
   "cell_type": "code",
   "execution_count": 34,
   "source": [
    "xor_mlp = MLP(X, y, 0.2, 10000)\n",
    "xor_mlp.train()"
   ],
   "outputs": [
    {
     "output_type": "stream",
     "name": "stdout",
     "text": [
      "[Epoch]: 0 Loss:  0.7476381492229618\n",
      "[Epoch]: 500 Loss:  0.4995034267485938\n",
      "[Epoch]: 1000 Loss:  0.49703543074200407\n",
      "[Epoch]: 1500 Loss:  0.47961469243904015\n",
      "[Epoch]: 2000 Loss:  0.39846647786523637\n",
      "[Epoch]: 2500 Loss:  0.3230153033332077\n",
      "[Epoch]: 3000 Loss:  0.20914146425775515\n",
      "[Epoch]: 3500 Loss:  0.04987298722527287\n",
      "[Epoch]: 4000 Loss:  0.021985086473687458\n",
      "[Epoch]: 4500 Loss:  0.013370930740062448\n",
      "[Epoch]: 5000 Loss:  0.009424187201215814\n",
      "[Epoch]: 5500 Loss:  0.00720887549691671\n",
      "[Epoch]: 6000 Loss:  0.005805830692826646\n",
      "[Epoch]: 6500 Loss:  0.00484359913485435\n",
      "[Epoch]: 7000 Loss:  0.004145472634776795\n",
      "[Epoch]: 7500 Loss:  0.003617313076632968\n",
      "[Epoch]: 8000 Loss:  0.003204619050173335\n",
      "[Epoch]: 8500 Loss:  0.002873759118168672\n",
      "[Epoch]: 9000 Loss:  0.0026029062466384092\n",
      "[Epoch]: 9500 Loss:  0.002377302832431112\n"
     ]
    }
   ],
   "metadata": {}
  },
  {
   "cell_type": "code",
   "execution_count": 35,
   "source": [
    "preds = xor_mlp.predict(X)\n",
    "\n",
    "for i in range(len(X)):\n",
    "    print(X[i][0],'XOR',X[i][1],'=',preds[i])"
   ],
   "outputs": [
    {
     "output_type": "stream",
     "name": "stdout",
     "text": [
      "0 XOR 0 = 0\n",
      "0 XOR 1 = 1\n",
      "1 XOR 0 = 1\n",
      "1 XOR 1 = 0\n"
     ]
    }
   ],
   "metadata": {}
  },
  {
   "cell_type": "code",
   "execution_count": null,
   "source": [],
   "outputs": [],
   "metadata": {}
  }
 ],
 "metadata": {
  "orig_nbformat": 4,
  "language_info": {
   "name": "python",
   "version": "3.9.10",
   "mimetype": "text/x-python",
   "codemirror_mode": {
    "name": "ipython",
    "version": 3
   },
   "pygments_lexer": "ipython3",
   "nbconvert_exporter": "python",
   "file_extension": ".py"
  },
  "kernelspec": {
   "name": "python3",
   "display_name": "Python 3.9.10 64-bit ('base': conda)"
  },
  "interpreter": {
   "hash": "c60e96cf53dd04ddda32dc32e2dcc3f8fac084489a33586ebacbc35a2dc5ca8c"
  }
 },
 "nbformat": 4,
 "nbformat_minor": 2
}